{
  "nbformat": 4,
  "nbformat_minor": 0,
  "metadata": {
    "colab": {
      "name": "Self Learning 1.ipynb",
      "provenance": [],
      "collapsed_sections": [],
      "authorship_tag": "ABX9TyNX1NDpyEjLLJNOsHO2hbtq",
      "include_colab_link": true
    },
    "kernelspec": {
      "name": "python3",
      "display_name": "Python 3"
    },
    "language_info": {
      "name": "python"
    }
  },
  "cells": [
    {
      "cell_type": "markdown",
      "metadata": {
        "id": "view-in-github",
        "colab_type": "text"
      },
      "source": [
        "<a href=\"https://colab.research.google.com/github/denacahyasp2/SIB-AI-4-Jobs/blob/main/Self_Learning_1.ipynb\" target=\"_parent\"><img src=\"https://colab.research.google.com/assets/colab-badge.svg\" alt=\"Open In Colab\"/></a>"
      ]
    },
    {
      "cell_type": "markdown",
      "source": [
        "**Dena Cahya Setia Putri_JumaTec**"
      ],
      "metadata": {
        "id": "5nORSJwPfMib"
      }
    },
    {
      "cell_type": "markdown",
      "source": [
        "# **Bangun Datar**"
      ],
      "metadata": {
        "id": "zncJ0jq5TMGF"
      }
    },
    {
      "cell_type": "markdown",
      "source": [],
      "metadata": {
        "id": "xnMc21UNfadG"
      }
    },
    {
      "cell_type": "markdown",
      "source": [
        "Persegi"
      ],
      "metadata": {
        "id": "Hq7ma9uITZSf"
      }
    },
    {
      "cell_type": "code",
      "source": [
        "print('Menghitung Luas & Keliling Persegi')\n",
        "s = int(input('Masukan nilai sisi = '))\n",
        "Luas = s*s\n",
        "Keliling = 4*s\n",
        "print('Luas =', Luas)\n",
        "print('Keliling =', Keliling)"
      ],
      "metadata": {
        "colab": {
          "base_uri": "https://localhost:8080/"
        },
        "id": "yz27XI9yTi2U",
        "outputId": "0fe3f80c-5958-4ec8-8c80-8aad3e97e2ef"
      },
      "execution_count": null,
      "outputs": [
        {
          "output_type": "stream",
          "name": "stdout",
          "text": [
            "Menghitung Luas & Keliling Persegi\n",
            "Masukan nilai sisi = 4\n",
            "Luas = 16\n",
            "Keliling = 16\n"
          ]
        }
      ]
    },
    {
      "cell_type": "markdown",
      "source": [
        "Persegi Panjang"
      ],
      "metadata": {
        "id": "ed_ypbRmUIdY"
      }
    },
    {
      "cell_type": "code",
      "source": [
        "print('Menghitung Luas & Keliling Persegi Panjang')\n",
        "p = int(input('Masukan nilai panjang ='))\n",
        "l = int(input('Masukan nilai lebar = '))\n",
        "Luas = p*l\n",
        "Keliling = 2*(p+l)\n",
        "print('Luas = ', Luas)\n",
        "print('Keliling =', Keliling)"
      ],
      "metadata": {
        "colab": {
          "base_uri": "https://localhost:8080/"
        },
        "id": "5L6tqq7FUMsB",
        "outputId": "9bf82a8b-8fde-44ee-8201-94d7698e9c63"
      },
      "execution_count": null,
      "outputs": [
        {
          "output_type": "stream",
          "name": "stdout",
          "text": [
            "Menghitung Luas & Keliling Persegi Panjang\n",
            "Masukan nilai panjang =3\n",
            "Masukan nilai lebar = 4\n",
            "Luas =  12\n",
            "Keliling = 14\n"
          ]
        }
      ]
    },
    {
      "cell_type": "markdown",
      "source": [
        "Jajar Genjang"
      ],
      "metadata": {
        "id": "qpketEa2U_qQ"
      }
    },
    {
      "cell_type": "code",
      "source": [
        "print('Menghitung Luas & Keliling Jajar Genjang')\n",
        "a = int(input('Masukan nilai alas = '))\n",
        "b = int(input('Masukan nilai sisi miring = '))\n",
        "t = int(input('Masukan nilai tinggi = '))\n",
        "Luas = a*t\n",
        "Keliling = 2*(a+b)\n",
        "print('Luas =', Luas)\n",
        "print('Keliling =', Keliling)"
      ],
      "metadata": {
        "colab": {
          "base_uri": "https://localhost:8080/"
        },
        "id": "sf39CAhAVD8B",
        "outputId": "dd89779c-f462-446d-c7d1-d81eac82cd6b"
      },
      "execution_count": null,
      "outputs": [
        {
          "output_type": "stream",
          "name": "stdout",
          "text": [
            "Menghitung Luas & Keliling Jajar Genjang\n",
            "Masukan nilai alas = 2\n",
            "Masukan nilai sisi miring = 3\n",
            "Masukan nilai tinggi = 4\n",
            "Luas = 8\n",
            "Keliling = 10\n"
          ]
        }
      ]
    },
    {
      "cell_type": "markdown",
      "source": [
        "Layang-layang"
      ],
      "metadata": {
        "id": "F9WXHRtgV0uX"
      }
    },
    {
      "cell_type": "code",
      "source": [
        "print('Menghitung Luas & Keliling Layang-layang')\n",
        "d1 = int(input('Masukan nilai diagonal 1 = '))\n",
        "d2 = int(input('Masukan nilai diagonal 2 = '))\n",
        "a = int(input('Masukan nilai sisi a = '))\n",
        "b = int(input('Masukan nilai sisi b = '))\n",
        "Luas = 1/2*d1*d2\n",
        "Keliling = 2*(a+b)\n",
        "print('Luas =', Luas)\n",
        "print('Keliling =', Keliling)"
      ],
      "metadata": {
        "colab": {
          "base_uri": "https://localhost:8080/"
        },
        "id": "4hle2VLBV5eg",
        "outputId": "e644e84f-c951-4de8-a725-ab5ea94d60ce"
      },
      "execution_count": null,
      "outputs": [
        {
          "output_type": "stream",
          "name": "stdout",
          "text": [
            "Menghitung Luas & Keliling Layang-layang\n",
            "Masukan nilai diagonal 1 = 4\n",
            "Masukan nilai diagonal 2 = 6\n",
            "Masukan nilai sisi a = 7\n",
            "Masukan nilai sisi b = 3\n",
            "Luas = 12.0\n",
            "Keliling = 20\n"
          ]
        }
      ]
    },
    {
      "cell_type": "markdown",
      "source": [
        "Segitiga"
      ],
      "metadata": {
        "id": "jH54IpZXWqYE"
      }
    },
    {
      "cell_type": "code",
      "source": [
        "print('Menghitung Luas & Keliling Segitiga')\n",
        "a = int(input('Masukan nilai sisi a = '))\n",
        "b = int(input('Masukan nilai sisi b = '))\n",
        "c = int(input('Masukan nilai sisi c = '))\n",
        "t = int(input('Masukan nilai tinggi = '))\n",
        "Luas = 1/2*a*t\n",
        "Keliling = a+b+c\n",
        "print('Luas =', Luas)\n",
        "print('Keliling =', Keliling)"
      ],
      "metadata": {
        "colab": {
          "base_uri": "https://localhost:8080/"
        },
        "id": "_ihVxTwBWuxB",
        "outputId": "1b02afc3-2f42-482b-9617-88d466e8f4b3"
      },
      "execution_count": null,
      "outputs": [
        {
          "output_type": "stream",
          "name": "stdout",
          "text": [
            "Menghitung Luas & Keliling Segitiga\n",
            "Masukan nilai sisi a = 4\n",
            "Masukan nilai sisi b = 2\n",
            "Masukan nilai sisi c = 6\n",
            "Masukan nilai tinggi = 8\n",
            "Luas = 16.0\n",
            "Keliling = 12\n"
          ]
        }
      ]
    },
    {
      "cell_type": "markdown",
      "source": [
        "Trapesium"
      ],
      "metadata": {
        "id": "ogFMKoXsXfe3"
      }
    },
    {
      "cell_type": "code",
      "source": [
        "print('Menghitung Luas & Keliling Trapesium')\n",
        "a = int(input('Masukan sisi sejajar a = '))\n",
        "b = int(input('Masukan sisi sejajar b = '))\n",
        "c = int(input('Masukan sisi miring c = '))\n",
        "t = int(input('Masukan nilai tinggi = '))\n",
        "d = int(input('Masukan sisi miring d = '))\n",
        "\n",
        "luas = 1/2*(a+b)*t\n",
        "keliling = a+b+c+d\n",
        "\n",
        "print('Luas  =', (luas))\n",
        "print('keliling   =', (keliling))"
      ],
      "metadata": {
        "colab": {
          "base_uri": "https://localhost:8080/"
        },
        "id": "3Bobl3icXv_M",
        "outputId": "ea736dc3-d537-4126-d755-d5c2b14f24ad"
      },
      "execution_count": null,
      "outputs": [
        {
          "output_type": "stream",
          "name": "stdout",
          "text": [
            "Menghitung Luas & Keliling Trapesium\n",
            "Masukan sisi sejajar a = 2\n",
            "Masukan sisi sejajar b = 3\n",
            "Masukan sisi miring c = 4\n",
            "Masukan nilai tinggi = 7\n",
            "Masukan sisi miring d = 5\n",
            "Luas  = 17.5\n",
            "keliling   = 14\n"
          ]
        }
      ]
    },
    {
      "cell_type": "markdown",
      "source": [
        "Belah Ketupat"
      ],
      "metadata": {
        "id": "MLS7MWLGYfcK"
      }
    },
    {
      "cell_type": "code",
      "source": [
        "print('Menghitung Luas & Keliling Belah Ketupat')\n",
        "d1 = int(input('Masukan diagonal 1 = '))\n",
        "d2 = int(input('Masukan diagoal 2 = '))\n",
        "s = int(input('Masukan sisi  ='))\n",
        "\n",
        "Luas = 1/2*d1*d2\n",
        "Keliling= 4*s\n",
        "print('Luas  =', Luas)\n",
        "print('Keliling =', Keliling)"
      ],
      "metadata": {
        "colab": {
          "base_uri": "https://localhost:8080/"
        },
        "id": "5W9-xjNXYiXz",
        "outputId": "e98c71e3-37bb-4508-a6a8-fb86f32baa49"
      },
      "execution_count": null,
      "outputs": [
        {
          "output_type": "stream",
          "name": "stdout",
          "text": [
            "Menghitung Luas & Keliling Belah Ketupat\n",
            "Masukan diagonal 1 = 2\n",
            "Masukan diagoal 2 = 4\n",
            "Masukan sisi  =6\n",
            "Luas  = 4.0\n",
            "Keliling = 24\n"
          ]
        }
      ]
    },
    {
      "cell_type": "markdown",
      "source": [
        "Lingkaran"
      ],
      "metadata": {
        "id": "JdjMA7CzZGS2"
      }
    },
    {
      "cell_type": "code",
      "source": [
        "print('Menghitung Luas & Keliling Lingkaran')\n",
        "phi = 22/7\n",
        "r = int(input('Msukan nilai Jari-jari = '))\n",
        "Luas = phi*r*r\n",
        "Keliling = 2*phi*r\n",
        "\n",
        "print('Luas =', Luas)\n",
        "print('Keliling = ', Keliling)"
      ],
      "metadata": {
        "colab": {
          "base_uri": "https://localhost:8080/"
        },
        "id": "GmXeW9AeZLDA",
        "outputId": "dcfe9eea-6074-4d7b-f921-e5ad133d4b2e"
      },
      "execution_count": null,
      "outputs": [
        {
          "output_type": "stream",
          "name": "stdout",
          "text": [
            "Menghitung Luas & Keliling Lingkaran\n",
            "Msukan nilai Jari-jari = 7\n",
            "Luas = 154.0\n",
            "Keliling =  44.0\n"
          ]
        }
      ]
    },
    {
      "cell_type": "markdown",
      "source": [
        "# **Bangun Ruang**"
      ],
      "metadata": {
        "id": "0nD6uU7eZ46J"
      }
    },
    {
      "cell_type": "markdown",
      "source": [
        "Kubus"
      ],
      "metadata": {
        "id": "YDVWLJKiaA0T"
      }
    },
    {
      "cell_type": "code",
      "source": [
        "print('Menghitung Luas & Volume Kubus')\n",
        "r = int(input('Masukan nilai panjang rusuk = '))\n",
        "Luas = 6*r*r\n",
        "Volume = r*r*r\n",
        "print('Luas =', Luas)\n",
        "print('Volume =', Volume)"
      ],
      "metadata": {
        "colab": {
          "base_uri": "https://localhost:8080/"
        },
        "id": "qekeNYm-aI2s",
        "outputId": "7b6c6ef8-3fee-4b47-9020-4e2fb4ae07d7"
      },
      "execution_count": null,
      "outputs": [
        {
          "output_type": "stream",
          "name": "stdout",
          "text": [
            "Menghitung Luas & Volume Kubus\n",
            "Masukan nilai panjang rusuk = 3\n",
            "Luas = 54\n",
            "Volume = 27\n"
          ]
        }
      ]
    },
    {
      "cell_type": "markdown",
      "source": [
        "Balok"
      ],
      "metadata": {
        "id": "Sy8NVCNxagQa"
      }
    },
    {
      "cell_type": "code",
      "source": [
        "print('Menghitung Luas & Volume Balok')\n",
        "p = int(input('Masukan panjang  = '))\n",
        "l = int(input('Masukan lebar    = '))\n",
        "t = int(input('Masukan tinggi   = '))\n",
        "\n",
        "Luas = 2*(p*l+p*t+l*t)\n",
        "Volume = p*l*t\n",
        "print('Luas =', Luas)\n",
        "print('Volume =', Volume) "
      ],
      "metadata": {
        "colab": {
          "base_uri": "https://localhost:8080/"
        },
        "id": "WrcHwfQiahu3",
        "outputId": "a68378b3-77b8-480a-97a7-92ad24c13882"
      },
      "execution_count": null,
      "outputs": [
        {
          "output_type": "stream",
          "name": "stdout",
          "text": [
            "Menghitung Luas & Volume Balok\n",
            "Masukan panjang  = 5\n",
            "Masukan lebar    = 3\n",
            "Masukan tinggi   = 4\n",
            "Luas = 94\n",
            "Volume = 60\n"
          ]
        }
      ]
    },
    {
      "cell_type": "markdown",
      "source": [
        "Limas"
      ],
      "metadata": {
        "id": "vqjIRn5cav_A"
      }
    },
    {
      "cell_type": "code",
      "source": [
        "print('Menghitung Luas & Volume Limas')\n",
        "a = int(input('Masukan nilai alas = '))\n",
        "La = int(input('Masukan nilai luas alas = '))\n",
        "t = int(input('Masukan nilai tinggi = '))\n",
        "sm = int(input('Masukan nilai total sisi miring = '))\n",
        "Luas = La+sm\n",
        "Volume = 1/3*La*t\n",
        "print('luas =', Luas)\n",
        "print('volume =', Volume)"
      ],
      "metadata": {
        "colab": {
          "base_uri": "https://localhost:8080/"
        },
        "id": "a6_rvX4Aaz3G",
        "outputId": "81968328-782c-4d39-9486-951b4c9894a1"
      },
      "execution_count": null,
      "outputs": [
        {
          "output_type": "stream",
          "name": "stdout",
          "text": [
            "Menghitung Luas & Volume Limas\n",
            "Masukan nilai alas = 3\n",
            "Masukan nilai luas alas = 6\n",
            "Masukan nilai tinggi = 9\n",
            "Masukan nilai total sisi miring = 5\n",
            "luas = 11\n",
            "volume = 18.0\n"
          ]
        }
      ]
    },
    {
      "cell_type": "markdown",
      "source": [
        "Kerucut"
      ],
      "metadata": {
        "id": "5mHykovebT28"
      }
    },
    {
      "cell_type": "code",
      "source": [
        "print('Menghitung Luas & Volume Kerucut')\n",
        "phi = 22/7\n",
        "r = int(input('Masukan nilai jari-jari = '))\n",
        "s = int(input('Masukan nilai garis pelukis = '))\n",
        "t = int(input('Masukan nilai tinggi = '))\n",
        "Luas = phi*r*(r*s)\n",
        "Volume = 1/3*phi*r*r*s\n",
        "print('luas  =', Luas)\n",
        "print('volume =', Volume)"
      ],
      "metadata": {
        "colab": {
          "base_uri": "https://localhost:8080/"
        },
        "id": "qZAarc8UbYNG",
        "outputId": "4702639b-1559-41e3-f7fe-e06586b729e7"
      },
      "execution_count": null,
      "outputs": [
        {
          "output_type": "stream",
          "name": "stdout",
          "text": [
            "Menghitung Luas & Volume Kerucut\n",
            "Masukan nilai jari-jari = 3\n",
            "Masukan nilai garis pelukis = 4\n",
            "Masukan nilai tinggi = 5\n",
            "luas  = 113.14285714285714\n",
            "volume = 37.71428571428571\n"
          ]
        }
      ]
    },
    {
      "cell_type": "markdown",
      "source": [
        "Prisma"
      ],
      "metadata": {
        "id": "A7sUKQWCbsPY"
      }
    },
    {
      "cell_type": "code",
      "source": [
        "print('Menghitung Luas & Volume Prisma')\n",
        "a = int(input('Masukan nilai alas = '))\n",
        "La = int(input('Masukan nilai luas alas = '))\n",
        "Ka = int(input('Masukan nilai keliling alas = '))\n",
        "t = int(input('Masukan nilai tinggi = '))\n",
        "Luas = 2*La+Ka*t\n",
        "Volume = La*t\n",
        "print('luas =', Luas)\n",
        "print('volume =', Volume)"
      ],
      "metadata": {
        "colab": {
          "base_uri": "https://localhost:8080/"
        },
        "id": "f2KScV9Tbvu7",
        "outputId": "2328a556-62ae-4ec9-d8a4-0d259ec8362f"
      },
      "execution_count": null,
      "outputs": [
        {
          "output_type": "stream",
          "name": "stdout",
          "text": [
            "Menghitung Luas & Volume Prisma\n",
            "Masukan nilai alas = 3\n",
            "Masukan nilai luas alas = 4\n",
            "Masukan nilai keliling alas = 5\n",
            "Masukan nilai tinggi = 6\n",
            "luas = 38\n",
            "volume = 24\n"
          ]
        }
      ]
    },
    {
      "cell_type": "markdown",
      "source": [
        "Tabung"
      ],
      "metadata": {
        "id": "XAIQWF1DcFIs"
      }
    },
    {
      "cell_type": "code",
      "source": [
        "print('Menghitung Luas dan Volume Tabung')\n",
        "phi= 22/7\n",
        "r = int(input('Masukan nilai jari-jari = '))\n",
        "t = int(input('Masukan nilai tinggi = '))\n",
        "Luas = 2*phi*r*(t+r)\n",
        "Volume = phi*r*r*t\n",
        "print('luas =', Luas)\n",
        "print('volume =', Volume)"
      ],
      "metadata": {
        "colab": {
          "base_uri": "https://localhost:8080/"
        },
        "id": "1cxNYUGOcI49",
        "outputId": "932d9495-a508-4ec7-9c16-0bee550f2788"
      },
      "execution_count": null,
      "outputs": [
        {
          "output_type": "stream",
          "name": "stdout",
          "text": [
            "Menghitung Luas dan Volume Tabung\n",
            "Masukan nilai jari-jari = 7\n",
            "Masukan nilai tinggi = 6\n",
            "luas = 572.0\n",
            "volume = 924.0\n"
          ]
        }
      ]
    },
    {
      "cell_type": "markdown",
      "source": [
        "Bola"
      ],
      "metadata": {
        "id": "8IZhSX6icYg-"
      }
    },
    {
      "cell_type": "code",
      "source": [
        "print('Menghitung Luas & Volume Bola')\n",
        "phi = 22/7\n",
        "r = int(input('Masukan nilai jari-jari = '))\n",
        "Luas = 4*phi*r*r\n",
        "Volume = 4/3*phi*r*r*r\n",
        "print('luas =', Luas)\n",
        "print('volume =', Volume)"
      ],
      "metadata": {
        "colab": {
          "base_uri": "https://localhost:8080/"
        },
        "id": "pVlAMBFqccy4",
        "outputId": "63e97e13-d4f6-43e4-95a5-19f9a4a917c2"
      },
      "execution_count": null,
      "outputs": [
        {
          "output_type": "stream",
          "name": "stdout",
          "text": [
            "Menghitung Luas & Volume Bola\n",
            "Masukan nilai jari-jari = 7\n",
            "luas = 616.0\n",
            "volume = 1437.3333333333333\n"
          ]
        }
      ]
    }
  ]
}